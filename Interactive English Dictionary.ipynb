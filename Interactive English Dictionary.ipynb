{
 "cells": [
  {
   "cell_type": "code",
   "execution_count": 35,
   "metadata": {},
   "outputs": [],
   "source": [
    "import json\n",
    "from difflib import get_close_matches as gcm "
   ]
  },
  {
   "cell_type": "code",
   "execution_count": 36,
   "metadata": {},
   "outputs": [],
   "source": [
    "data = json.load(open(\"data.json\"))\n",
    "keys = data.keys()\n",
    "def meaning():\n",
    "    w= e1_value.get()\n",
    "    w=w.lower()\n",
    "    if w in data:\n",
    "        t1.insert(END,data[w])\n",
    "    else:\n",
    "        list =gcm(w,keys,n=1,cutoff=0.8)\n",
    "        if len(list)==0:\n",
    "            t1.insert(END,\"Sorry, no word found!\")\n",
    "        else:\n",
    "            real=list[0]\n",
    "            answer= tkinter.messagebox.askquestion(\"Word Suggestion\", \"Is your word \"+real+\"?\")\n",
    "            if answer==\"yes\":\n",
    "                t1.insert(END,data[real])\n",
    "            else:\n",
    "                t1.insert(END,\"Apologies, no word found. Please check your input word again.\")\n",
    "def repeat():\n",
    "    t1.delete(1.0,END)\n",
    "    e1.delete(0,END)\n",
    "    meaning\n",
    "        "
   ]
  },
  {
   "cell_type": "code",
   "execution_count": 37,
   "metadata": {},
   "outputs": [],
   "source": [
    "from tkinter import*\n",
    "import tkinter.messagebox\n",
    "root= Tk()\n",
    "root.title('Dictionary')\n",
    "\n",
    "header = Label(root, text=\"A Relatively Smart Dictionary\", bg=\"black\", fg=\"white\", pady=15, font='Courier 23 bold')\n",
    "#header.config(font=(\"Courier\",27))\n",
    "header.pack(fill=X)\n",
    "label1 = Label(root, text=\"Enter your word:\", font='Courier 16')\n",
    "label1.pack()\n",
    "\n",
    "e1_value= StringVar()\n",
    "e1= Entry(root, textvariable=e1_value,bd=5)\n",
    "e1.pack()\n",
    "\n",
    "button = Button(root, text=\"Find Meaning!\",command= meaning, bg=\"lightgrey\", pady=4)\n",
    "button.pack()\n",
    "\n",
    "t1 =Text(root)\n",
    "t1.pack(fill=X)\n",
    "\n",
    "label2=Label(root, text=\"Hit the button below to search another word!\", font='Courier 16')\n",
    "label2.pack()\n",
    "\n",
    "button2=Button(root,text=\"Another word!\", command=repeat, bg=\"lightgray\" , pady=4)\n",
    "button2.pack()\n",
    "\n",
    "\n",
    "root.mainloop()"
   ]
  },
  {
   "cell_type": "code",
   "execution_count": null,
   "metadata": {},
   "outputs": [],
   "source": []
  }
 ],
 "metadata": {
  "kernelspec": {
   "display_name": "Python 3",
   "language": "python",
   "name": "python3"
  },
  "language_info": {
   "codemirror_mode": {
    "name": "ipython",
    "version": 3
   },
   "file_extension": ".py",
   "mimetype": "text/x-python",
   "name": "python",
   "nbconvert_exporter": "python",
   "pygments_lexer": "ipython3",
   "version": "3.8.3"
  }
 },
 "nbformat": 4,
 "nbformat_minor": 4
}
